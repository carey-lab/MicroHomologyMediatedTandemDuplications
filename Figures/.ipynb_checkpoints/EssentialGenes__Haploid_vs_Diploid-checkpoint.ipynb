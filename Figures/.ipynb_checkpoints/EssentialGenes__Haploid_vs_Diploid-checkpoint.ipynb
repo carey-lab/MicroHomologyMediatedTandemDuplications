{
 "cells": [
  {
   "cell_type": "code",
   "execution_count": null,
   "metadata": {},
   "outputs": [],
   "source": [
    "# load new Scer haploid and diploid data, and check for depletions of events in essential genes in haploid\n",
    "#\n",
    "# essentiality list from https://www.yeastgenome.org/observable/APO:0000112\n"
   ]
  },
  {
   "cell_type": "code",
   "execution_count": 9,
   "metadata": {},
   "outputs": [],
   "source": [
    "# import modules\n",
    "import pandas as pd\n",
    "import pybedtools\n",
    "import sys\n",
    "import subprocess\n",
    "from io import StringIO\n",
    "from statistics import mean\n",
    "import scipy.stats as stats\n",
    "import pprint\n",
    "import dill\n",
    "import matplotlib.pyplot as plt\n",
    "import numpy\n",
    "from datetime import datetime\n",
    "#from gff3 import Gff3\n",
    "#from BCBio.GFF import GFFExaminer\n",
    "#import gffutils\n"
   ]
  },
  {
   "cell_type": "code",
   "execution_count": 50,
   "metadata": {},
   "outputs": [],
   "source": [
    "# load data\n",
    "PROJDIR = '/Volumes/CareyLab/Projects/2019__MicroHomologyMediatedIndels__XiangweHe_ZhejiangU/'\n",
    "PROCDATA = PROJDIR + 'Sarah/new_MH_project_Spombe_Scer/ProcessedData_Spombe_Scer/'\n",
    "PROCDATA = PROJDIR + 'DataFromCluster/NovaSeq6000_merged_counts.tsv/'\n",
    "SGDDIR = '/Volumes/CareyLab/ExternalData/SGD/'\n",
    "ScerEssential = pd.read_csv( SGDDIR + 'inviable_annotations.txt' , sep='\\t')\n",
    "\n",
    "SpomEssential = '/Volumes/CareyLab/ExternalData/PomBase/essential_genes.txt'\n",
    "SpomEssential = pd.read_csv(SpomEssential , sep='\\t')\n",
    "SpomEssential = SpomEssential['systematic_ID']\n",
    "#SpomEssential = SpomEssential['systematic_ID'][SpomEssential['N_experiments']==2]\n",
    "\n",
    "ScerEssential = '/Volumes/CareyLab/ExternalData/SGD/inviable_annotations.txt'\n",
    "ScerEssential = pd.read_csv(ScerEssential , sep='\\t' , keep_default_na=False)\n",
    "ScerEssential = ScerEssential[ ScerEssential['Mutant Information']=='null']\n",
    "ScerEssential = ScerEssential['Gene Systematic Name']\n",
    "\n",
    "\n",
    "Sp_filepath = '/var/tmp/saved_session__EssentialGenes__Haploid_vs_Diploid_Spombe.pkl'\n",
    "Sp_figure_name = '/Users/lcarey/Downloads/EssentialGenes__Haploid_vs_Diploid_Spombe_NovaSeq__' + datetime.now().strftime(\"%Y_%m_%d\") + '.png'\n",
    "\n",
    "\n",
    "Sc_filepath = '/var/tmp/saved_session__EssentialGenes__Haploid_vs_Diploid_Scer.pkl'\n",
    "Sc_figure_name = '/Users/lcarey/Downloads/EssentialGenes__Haploid_vs_Diploid_Scer_NovaSeq__' + datetime.now().strftime(\"%Y_%m_%d\") + '.png'\n"
   ]
  },
  {
   "cell_type": "code",
   "execution_count": null,
   "metadata": {},
   "outputs": [],
   "source": [
    "# B5  LD388 exp   \"diploid S. pombe, mid-log phase\"   1   \n",
    "# B6  DY1778 exp  \"haploid S. pombe, mid-log phase\"   1   \n",
    "# B7  LD388 sat   \"diploid S. pombe, saturated culture\"   1   \n",
    "# B8  DY1778 sat  \"haploid S. pombe, saturated culture\"   1   \n"
   ]
  },
  {
   "cell_type": "code",
   "execution_count": 3,
   "metadata": {},
   "outputs": [],
   "source": [
    "# Intersect each .counts.tsv file with the gff with gene names\n",
    "# S pombe\n",
    "colnames = ['chr','s1','e2','NDup','NCol','GENE']\n",
    "colnames = ['NDup','NCol','GENE']\n",
    "\n",
    "GFF = '/Users/lcarey/CareyLab/ExternalData/PomBase/Schizosaccharomyces_pombe_all_chromosomes_only_geneIDs.gff3'\n",
    "C2 = ' | bedtools intersect  -wb -f 1 -a - -b ' + GFF + ' | cut -f 1-5,14 ' # with chr position\n",
    "C2 = ' | bedtools intersect  -wb -f 1 -a - -b ' + GFF + ' | cut -f 4,5,14 ' # bare minimum\n",
    "\n",
    "TSV = PROCDATA + 'B6.q30_f0x2.counts.tsv'\n",
    "TSV = PROCDATA + 'B6.sign.count.tsv'\n",
    "CMD = '/usr/bin/cut -f 1,2,5,6,7  ' + TSV + C2 \n",
    "a = subprocess.Popen( CMD , stdout=subprocess.PIPE , shell=True )\n",
    "b = StringIO( a.communicate()[0].decode('utf-8'))\n",
    "df6 = pd.read_csv( b , sep='\\t' , names = colnames)\n",
    "\n",
    "TSV = PROCDATA + 'B5.q30_f0x2.counts.tsv'\n",
    "TSV = PROCDATA + 'B5.sign.count.tsv'\n",
    "CMD = '/usr/bin/cut -f 1,2,5,6,7  ' + TSV + C2 \n",
    "a = subprocess.Popen( CMD , stdout=subprocess.PIPE , shell=True )\n",
    "b = StringIO( a.communicate()[0].decode('utf-8'))\n",
    "df5 = pd.read_csv( b , sep='\\t' , names = colnames)\n",
    "\n",
    "TSV = PROCDATA + 'B7.q30_f0x2.counts.tsv'\n",
    "TSV = PROCDATA + 'B7.sign.count.tsv'\n",
    "CMD = '/usr/bin/cut -f 1,2,5,6,7  ' + TSV + C2 \n",
    "a = subprocess.Popen( CMD , stdout=subprocess.PIPE , shell=True )\n",
    "b = StringIO( a.communicate()[0].decode('utf-8'))\n",
    "df7 = pd.read_csv( b , sep='\\t' , names = colnames)\n",
    "\n",
    "TSV = PROCDATA + 'B8.q30_f0x2.counts.tsv'\n",
    "TSV = PROCDATA + 'B8.sign.count.tsv'\n",
    "CMD = '/usr/bin/cut -f 1,2,5,6,7  ' + TSV + C2 \n",
    "a = subprocess.Popen( CMD , stdout=subprocess.PIPE , shell=True )\n",
    "b = StringIO( a.communicate()[0].decode('utf-8'))\n",
    "df8 = pd.read_csv( b , sep='\\t' , names = colnames)\n",
    "\n",
    "df5['HasDup']=df5['NDup']>0\n",
    "df6['HasDup']=df6['NDup']>0\n",
    "df7['HasDup']=df7['NDup']>0\n",
    "df8['HasDup']=df8['NDup']>0"
   ]
  },
  {
   "cell_type": "code",
   "execution_count": 86,
   "metadata": {},
   "outputs": [],
   "source": [
    "# Intersect each .counts.tsv file with the gff with gene names\n",
    "# S cerevisiae\n",
    "# B1  Y35 exp \"haploid S. cerevisiase, mid-log phase\" 0.5 \n",
    "# B2  Y113 exp    \"diploid S. cerevisiase, mid-log phase\" 0.5 \n",
    "# B3  Y35 saturated   \"haploid S. cerevisiase, saturated culture\" 0.5 \n",
    "# B4  Y113 saturated  \"diploiScerEssentialcerevisiase, saturated culture\" 0.5 \n",
    "\n",
    "colnames = ['chr','s1','e2','NDup','NCol','GENE']\n",
    "colnames = ['NDup','NCol','GENE']\n",
    "\n",
    "GFF = '/Users/lcarey/CareyLab/ExternalData/SGD/saccharomyces_cerevisiae_no_seq_genes_only.gff3'\n",
    "C2 = ' | bedtools intersect  -wb -f 1 -a - -b ' + GFF + ' | cut -f 4,5,14 ' # bare minimum\n",
    "\n",
    "TSV = PROCDATA + 'B1.q30_f0x2.counts.tsv'\n",
    "TSV = PROCDATA + 'B1.sign.count.tsv'\n",
    "CMD = '/usr/bin/cut -f 1,2,5,6,7  ' + TSV + C2 \n",
    "a = subprocess.Popen( CMD , stdout=subprocess.PIPE , shell=True )\n",
    "b = StringIO( a.communicate()[0].decode('utf-8'))\n",
    "df1 = pd.read_csv( b , sep='\\t' , names = colnames)\n",
    "\n",
    "TSV = PROCDATA + 'B2.q30_f0x2.counts.tsv'\n",
    "TSV = PROCDATA + 'B2.sign.count.tsv'\n",
    "CMD = '/usr/bin/cut -f 1,2,5,6,7  ' + TSV + C2 \n",
    "a = subprocess.Popen( CMD , stdout=subprocess.PIPE , shell=True )\n",
    "b = StringIO( a.communicate()[0].decode('utf-8'))\n",
    "df2 = pd.read_csv( b , sep='\\t' , names = colnames)\n",
    "\n",
    "TSV = PROCDATA + 'B3.q30_f0x2.counts.tsv'\n",
    "TSV = PROCDATA + 'B3.sign.count.tsv'\n",
    "CMD = '/usr/bin/cut -f 1,2,5,6,7  ' + TSV + C2 \n",
    "a = subprocess.Popen( CMD , stdout=subprocess.PIPE , shell=True )\n",
    "b = StringIO( a.communicate()[0].decode('utf-8'))\n",
    "df3 = pd.read_csv( b , sep='\\t' , names = colnames)\n",
    "\n",
    "TSV = PROCDATA + 'B4.q30_f0x2.counts.tsv'\n",
    "TSV = PROCDATA + 'B4.sign.count.tsv'\n",
    "CMD = '/usr/bin/cut -f 1,2,5,6,7  ' + TSV + C2 \n",
    "a = subprocess.Popen( CMD , stdout=subprocess.PIPE , shell=True )\n",
    "b = StringIO( a.communicate()[0].decode('utf-8'))\n",
    "df4 = pd.read_csv( b , sep='\\t' , names = colnames)\n",
    "\n",
    "df1['HasDup']=df1['NDup']>0\n",
    "df2['HasDup']=df2['NDup']>0\n",
    "df3['HasDup']=df3['NDup']>0\n",
    "df4['HasDup']=df4['NDup']>0"
   ]
  },
  {
   "cell_type": "code",
   "execution_count": null,
   "metadata": {},
   "outputs": [],
   "source": [
    "# save everything to disk, as processing the above takes a few minutes\n",
    "# dill.dump_session(filepath) # Save the session\n"
   ]
  },
  {
   "cell_type": "code",
   "execution_count": 6,
   "metadata": {},
   "outputs": [
    {
     "name": "stdout",
     "output_type": "stream",
     "text": [
      "array([[  62, 1041],\n",
      "       [ 103, 1185]])\n",
      "OR = 0.6852074648163174 , p = 0.023435712018775125\n",
      "array([[ 61, 844],\n",
      "       [ 46, 876]])\n",
      "OR = 1.376365134968061 , p = 0.13468911858387433\n"
     ]
    }
   ],
   "source": [
    "# B5  LD388 exp   \"diploid S. pombe, mid-log phase\"   1   \n",
    "# B6  DY1778 exp  \"haploid S. pombe, mid-log phase\"   1   \n",
    "# B7  LD388 sat   \"diploid S. pombe, saturated culture\"   1   \n",
    "# B8  DY1778 sat  \"haploid S. pombe, saturated culture\"   1   \n",
    "idx5 = df5.GENE.isin(SpomEssential)\n",
    "idx6 = df6.GENE.isin(SpomEssential)\n",
    "idx7 = df5.GENE.isin(SpomEssential)\n",
    "idx8 = df6.GENE.isin(SpomEssential)\n",
    "xL = numpy.array([ [ sum(df6.NDup[idx6]), sum(df6.NDup[~idx6]) ] , [ sum(df5.NDup[idx5]), sum(df5.NDup[~idx5]) ] ])\n",
    "xLd = 100 * numpy.concatenate( (xL[0]/sum(xL[0]) , xL[1]/sum(xL[1])))\n",
    "\n",
    "pprint.pprint(xL)\n",
    "oddratioL , pvalueL = stats.fisher_exact( xL )\n",
    "print(f\"OR = {oddratioL} , p = {pvalueL}\")\n",
    "\n",
    "xS = numpy.array( [ [ sum(df8.NDup[idx8]), sum(df8.NDup[~idx8]) ] , [ sum(df7.NDup[idx7]), sum(df7.NDup[~idx7]) ] ] )\n",
    "xSd = 100 * numpy.concatenate( (xS[0]/sum(xS[0]) , xS[1]/sum(xS[1])))\n",
    "\n",
    "pprint.pprint(xS)\n",
    "oddratioS , pvalueS = stats.fisher_exact( xS )\n",
    "print(f\"OR = {oddratioS} , p = {pvalueS}\")"
   ]
  },
  {
   "cell_type": "code",
   "execution_count": null,
   "metadata": {},
   "outputs": [],
   "source": [
    "# publication quality figure\n",
    "fig,axes = plt.subplots( nrows=1 , ncols=1 , figsize=(4,6) )\n",
    "axes.bar([1,2], xLd[[0,2]]  , color=[0.7, 0.7, 0.7] , edgecolor='black' )\n",
    "axes.set_ylabel('% of MTDs in essential genes')\n",
    "axes.set_title(f\"Fisher's exact test, O.R.={oddratioL:0.2f} , p={pvalueL:0.4f}\")\n",
    "axes.set_xticks([1,2])\n",
    "axes.set_xticklabels(['Haploid','Diploid'])\n",
    "plt.savefig( Sp_figure_name , format='png' , dpi=300 )\n",
    "plt.show()\n"
   ]
  },
  {
   "cell_type": "code",
   "execution_count": 99,
   "metadata": {},
   "outputs": [
    {
     "name": "stdout",
     "output_type": "stream",
     "text": [
      "array([[ 307, 1299],\n",
      "       [  86,  643]])\n",
      "OR = 1.7670211432765812 , p = 9.344404317284684e-06\n",
      "array([[ 17, 429],\n",
      "       [ 66, 579]])\n",
      "OR = 0.3476372112735749 , p = 6.380443509372888e-05\n"
     ]
    },
    {
     "data": {
      "image/png": "[encoded data removed]",
      "text/plain": [
       "<Figure size 288x432 with 1 Axes>"
      ]
     },
     "metadata": {
      "needs_background": "light"
     },
     "output_type": "display_data"
    }
   ],
   "source": [
    "# S cerevisiae\n",
    "# B1  Y35 exp \"haploid S. cerevisiase, mid-log phase\" 0.5 \n",
    "# B2  Y113 exp    \"diploid S. cerevisiase, mid-log phase\" 0.5 \n",
    "# B3  Y35 saturated   \"haploid S. cerevisiase, saturated culture\" 0.5 \n",
    "# B4  Y113 saturated  \"diploid S. cerevisiase, saturated culture\" 0.5 \n",
    "\n",
    "idx = df2.GENE.isin(ScerEssential)\n",
    "\n",
    "xL = numpy.array([ [ sum(df1.HasDup[idx]), sum(df1.HasDup[~idx]) ] , [ sum(df2.HasDup[idx]), sum(df2.HasDup[~idx]) ] ])\n",
    "xLd = 100 * numpy.concatenate( (xL[0]/sum(xL[0]) , xL[1]/sum(xL[1])))\n",
    "\n",
    "pprint.pprint(xL)\n",
    "oddratioL , pvalueL = stats.fisher_exact( xL )\n",
    "print(f\"OR = {oddratioL} , p = {pvalueL}\")\n",
    "\n",
    "xS = numpy.array( [ [ sum(df3.HasDup[idx]), sum(df3.HasDup[~idx]) ] , [ sum(df4.HasDup[idx]), sum(df4.HasDup[~idx]) ] ] )\n",
    "xSd = 100 * numpy.concatenate( (xS[0]/sum(xS[0]) , xS[1]/sum(xS[1])))\n",
    "\n",
    "pprint.pprint(xS)\n",
    "oddratioS , pvalueS = stats.fisher_exact( xS )\n",
    "print(f\"OR = {oddratioS} , p = {pvalueS}\")\n",
    "\n",
    "fig,axes = plt.subplots( nrows=1 , ncols=1 , figsize=(4,6) )\n",
    "axes.bar([1,2], xLd[[0,2]]  , color=[0.7, 0.7, 0.7] , edgecolor='black' )\n",
    "axes.set_ylabel('% of MTDs in essential genes')\n",
    "axes.set_title(f\"Fisher's exact test, O.R.={oddratioL:0.2f} , p={pvalueL:0.4f}\")\n",
    "axes.set_xticks([1,2])\n",
    "axes.set_xticklabels(['Haploid','Diploid'])\n",
    "plt.savefig( Sc_figure_name , format='png' , dpi=300 )\n",
    "plt.show()\n"
   ]
  },
  {
   "cell_type": "code",
   "execution_count": null,
   "metadata": {},
   "outputs": [],
   "source": []
  }
 ],
 "metadata": {
  "kernelspec": {
   "display_name": "Python 3.7.4 64-bit",
   "language": "python",
   "name": "python37464bit30b4d1e2bd834a6898696653d6a850f8"
  },
  "language_info": {
   "codemirror_mode": {
    "name": "ipython",
    "version": 3
   },
   "file_extension": ".py",
   "mimetype": "text/x-python",
   "name": "python",
   "nbconvert_exporter": "python",
   "pygments_lexer": "ipython3",
   "version": "3.8.3"
  },
  "varInspector": {
   "cols": {
    "lenName": 16,
    "lenType": 16,
    "lenVar": 40
   },
   "kernels_config": {
    "python": {
     "delete_cmd_postfix": "",
     "delete_cmd_prefix": "del ",
     "library": "var_list.py",
     "varRefreshCmd": "print(var_dic_list())"
    },
    "r": {
     "delete_cmd_postfix": ") ",
     "delete_cmd_prefix": "rm(",
     "library": "var_list.r",
     "varRefreshCmd": "cat(var_dic_list()) "
    }
   },
   "position": {
    "height": "140.411px",
    "left": "352px",
    "right": "20px",
    "top": "557px",
    "width": "478.679px"
   },
   "types_to_exclude": [
    "module",
    "function",
    "builtin_function_or_method",
    "instance",
    "_Feature"
   ],
   "window_display": false
  }
 },
 "nbformat": 4,
 "nbformat_minor": 4
}
