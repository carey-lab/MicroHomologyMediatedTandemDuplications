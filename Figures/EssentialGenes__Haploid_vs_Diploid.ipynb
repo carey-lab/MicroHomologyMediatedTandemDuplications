{
 "cells": [
  {
   "cell_type": "code",
   "execution_count": null,
   "metadata": {},
   "outputs": [],
   "source": [
    "# load new Scer haploid and diploid data, and check for depletions of events in essential genes in haploid\n",
    "#\n",
    "# essentiality list from https://www.yeastgenome.org/observable/APO:0000112\n"
   ]
  },
  {
   "cell_type": "code",
   "execution_count": null,
   "metadata": {},
   "outputs": [],
   "source": [
    "# import modules\n",
    "import pandas as pd\n",
    "import pybedtools\n",
    "import sys\n",
    "import subprocess\n",
    "from io import StringIO\n",
    "from statistics import mean\n",
    "import scipy.stats as stats\n",
    "import pprint\n",
    "#from gff3 import Gff3\n",
    "#from BCBio.GFF import GFFExaminer\n",
    "#import gffutils\n"
   ]
  },
  {
   "cell_type": "code",
   "execution_count": 9,
   "metadata": {},
   "outputs": [],
   "source": [
    "# load data\n",
    "PROJDIR = '/Volumes/CareyLab/Projects/2019__MicroHomologyMediatedIndels__XiangweHe_ZhejiangU/'\n",
    "PROCDATA = PROJDIR + 'Sarah/new_MH_project_Spombe_Scer/ProcessedData_Spombe_Scer/'\n",
    "PROCDATA = PROJDIR + 'DataFromCluster/NovaSeq6000_merged_counts.tsv/'\n",
    "SGDDIR = '/Volumes/CareyLab/ExternalData/SGD/'\n",
    "ScerEssential = pd.read_csv( SGDDIR + 'inviable_annotations.txt' , sep='\\t')\n",
    "\n",
    "SpomEssential = '/Volumes/CareyLab/ExternalData/PomBase/essential_genes.txt'\n",
    "SpomEssential = pd.read_csv(SpomEssential , sep='\\t')\n",
    "SpomEssential = SpomEssential['systematic_ID']\n",
    "#gff = Gff3()\n",
    "#ScerGenes = gff.parse( '/Users/lcarey/Downloads/test.gff')\n",
    "#ScerGenes = gff.parse( SGDDIR + 'saccharomyces_cerevisiae.gff')\n",
    "#ScerGenes = gffutils.example_filename('/Users/lcarey/Downloads/test.gff')\n",
    "#ScerGenes = pd.read_csv(SGDDIR + 'saccharomyces_cerevisiae_no_seq.gff3' , sep='\\t' , comment='#' , header=0 , low_memory=False \\\n",
    "#           , names = ['chr','source','feature_type','feature_start','featured_end','score','strand','phase','attributes'])\n",
    "#B5 = pd.read_csv( PROCDATA + 'B5_union.q30_f0x2.counts.tsv' , sep='\\t' , comment='#' , header=0 , low_memory=False \\\n",
    "#           , names = ['chr','s1','e1','s2','e2','NDup','NCol'])\n",
    "#B5['name'] = 'B5'\n",
    "\n",
    "\n",
    "#ScerGenes = pybedtools.BedTool.from_dataframe(ScerGenes)"
   ]
  },
  {
   "cell_type": "code",
   "execution_count": null,
   "metadata": {},
   "outputs": [],
   "source": [
    "# B5  LD388 exp   \"diploid S. pombe, mid-log phase\"   1   \n",
    "# B6  DY1778 exp  \"haploid S. pombe, mid-log phase\"   1   \n",
    "# B7  LD388 sat   \"diploid S. pombe, saturated culture\"   1   \n",
    "# B8  DY1778 sat  \"haploid S. pombe, saturated culture\"   1   \n"
   ]
  },
  {
   "cell_type": "code",
   "execution_count": 12,
   "metadata": {},
   "outputs": [],
   "source": [
    "# Intersect each .counts.tsv file with the gff with gene names\n",
    "colnames = ['chr','s1','e2','NDup','NCol','GENE']\n",
    "colnames = ['NDup','NCol','GENE']\n",
    "\n",
    "GFF = '/Users/lcarey/CareyLab/ExternalData/PomBase/Schizosaccharomyces_pombe_all_chromosomes_only_geneIDs.gff3'\n",
    "C2 = ' | bedtools intersect  -wb -f 1 -a - -b ' + GFF + ' | cut -f 1-5,14 ' # with chr position\n",
    "C2 = ' | bedtools intersect  -wb -f 1 -a - -b ' + GFF + ' | cut -f 4,5,14 ' # bare minimum\n",
    "\n",
    "TSV = PROCDATA + 'B6.q30_f0x2.counts.tsv'\n",
    "CMD = '/usr/bin/cut -f 1,2,5,6,7  ' + TSV + C2 \n",
    "a = subprocess.Popen( CMD , stdout=subprocess.PIPE , shell=True )\n",
    "b = StringIO( a.communicate()[0].decode('utf-8'))\n",
    "df6 = pd.read_csv( b , sep='\\t' , names = colnames)\n",
    "\n",
    "TSV = PROCDATA + 'B5.q30_f0x2.counts.tsv'\n",
    "CMD = '/usr/bin/cut -f 1,2,5,6,7  ' + TSV + C2 \n",
    "a = subprocess.Popen( CMD , stdout=subprocess.PIPE , shell=True )\n",
    "b = StringIO( a.communicate()[0].decode('utf-8'))\n",
    "df5 = pd.read_csv( b , sep='\\t' , names = colnames)\n",
    "\n",
    "TSV = PROCDATA + 'B7.q30_f0x2.counts.tsv'\n",
    "CMD = '/usr/bin/cut -f 1,2,5,6,7  ' + TSV + C2 \n",
    "a = subprocess.Popen( CMD , stdout=subprocess.PIPE , shell=True )\n",
    "b = StringIO( a.communicate()[0].decode('utf-8'))\n",
    "df7 = pd.read_csv( b , sep='\\t' , names = colnames)\n",
    "\n",
    "TSV = PROCDATA + 'B8.q30_f0x2.counts.tsv'\n",
    "CMD = '/usr/bin/cut -f 1,2,5,6,7  ' + TSV + C2 \n",
    "a = subprocess.Popen( CMD , stdout=subprocess.PIPE , shell=True )\n",
    "b = StringIO( a.communicate()[0].decode('utf-8'))\n",
    "df8 = pd.read_csv( b , sep='\\t' , names = colnames)"
   ]
  },
  {
   "cell_type": "code",
   "execution_count": 114,
   "metadata": {},
   "outputs": [],
   "source": []
  },
  {
   "cell_type": "code",
   "execution_count": 13,
   "metadata": {},
   "outputs": [
    {
     "name": "stdout",
     "output_type": "stream",
     "text": [
      "[[0, 2], [0, 5]]\n",
      "OR = nan , p = 1.0\n",
      "[[0, 2], [0, 5]]\n",
      "OR = nan , p = 1.0\n"
     ]
    }
   ],
   "source": [
    "idx5 = df5.GENE.isin(SpomEssential)\n",
    "idx6 = df6.GENE.isin(SpomEssential)\n",
    "idx7 = df5.GENE.isin(SpomEssential)\n",
    "idx8 = df6.GENE.isin(SpomEssential)\n",
    "x = [ [ sum(df6.NDup[idx6]), sum(df6.NDup[~idx6]) ] , [ sum(df5.NDup[idx5]), sum(df5.NDup[~idx5]) ] ]\n",
    "pprint.pprint(x)\n",
    "oddratio , pvalue = stats.fisher_exact( x )\n",
    "print(f\"OR = {oddratio} , p = {pvalue}\")\n",
    "\n",
    "x = [ [ sum(df8.NDup[idx8]), sum(df8.NDup[~idx8]) ] , [ sum(df7.NDup[idx7]), sum(df7.NDup[~idx7]) ] ]\n",
    "pprint.pprint(x)\n",
    "oddratio , pvalue = stats.fisher_exact( x )\n",
    "print(f\"OR = {oddratio} , p = {pvalue}\")"
   ]
  },
  {
   "cell_type": "code",
   "execution_count": 104,
   "metadata": {},
   "outputs": [
    {
     "data": {
      "text/plain": [
       "20"
      ]
     },
     "execution_count": 104,
     "metadata": {},
     "output_type": "execute_result"
    }
   ],
   "source": []
  },
  {
   "cell_type": "code",
   "execution_count": null,
   "metadata": {},
   "outputs": [],
   "source": []
  }
 ],
 "metadata": {
  "kernelspec": {
   "display_name": "Python 3.7.4 64-bit",
   "language": "python",
   "name": "python37464bit30b4d1e2bd834a6898696653d6a850f8"
  },
  "language_info": {
   "codemirror_mode": {
    "name": "ipython",
    "version": 3
   },
   "file_extension": ".py",
   "mimetype": "text/x-python",
   "name": "python",
   "nbconvert_exporter": "python",
   "pygments_lexer": "ipython3",
   "version": "3.8.3"
  },
  "varInspector": {
   "cols": {
    "lenName": 16,
    "lenType": 16,
    "lenVar": 40
   },
   "kernels_config": {
    "python": {
     "delete_cmd_postfix": "",
     "delete_cmd_prefix": "del ",
     "library": "var_list.py",
     "varRefreshCmd": "print(var_dic_list())"
    },
    "r": {
     "delete_cmd_postfix": ") ",
     "delete_cmd_prefix": "rm(",
     "library": "var_list.r",
     "varRefreshCmd": "cat(var_dic_list()) "
    }
   },
   "position": {
    "height": "140.411px",
    "left": "352px",
    "right": "20px",
    "top": "557px",
    "width": "478.679px"
   },
   "types_to_exclude": [
    "module",
    "function",
    "builtin_function_or_method",
    "instance",
    "_Feature"
   ],
   "window_display": false
  }
 },
 "nbformat": 4,
 "nbformat_minor": 4
}
